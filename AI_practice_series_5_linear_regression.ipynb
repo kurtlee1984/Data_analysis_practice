{
  "cells": [
    {
      "cell_type": "markdown",
      "metadata": {
        "id": "view-in-github",
        "colab_type": "text"
      },
      "source": [
        "<a href=\"https://colab.research.google.com/github/kurtlee1984/Data_analysis_practice/blob/main/AI_practice_series_5_linear_regression.ipynb\" target=\"_parent\"><img src=\"https://colab.research.google.com/assets/colab-badge.svg\" alt=\"Open In Colab\"/></a>"
      ]
    },
    {
      "cell_type": "markdown",
      "id": "79f12f91",
      "metadata": {
        "id": "79f12f91"
      },
      "source": [
        "### 5.線性迴歸 (Linear Regression)"
      ]
    },
    {
      "cell_type": "markdown",
      "id": "ec7937c6",
      "metadata": {
        "id": "ec7937c6"
      },
      "source": [
        "#### 簡單線性迴歸\n",
        "$ y=ax+b $, a為斜率, b為截距"
      ]
    },
    {
      "cell_type": "code",
      "execution_count": 1,
      "id": "62921383",
      "metadata": {
        "id": "62921383"
      },
      "outputs": [],
      "source": [
        "%matplotlib inline\n",
        "import numpy as np\n",
        "import matplotlib.pyplot as plt"
      ]
    },
    {
      "cell_type": "code",
      "execution_count": 2,
      "id": "b289bbe2",
      "metadata": {
        "id": "b289bbe2"
      },
      "outputs": [],
      "source": [
        "# 產生隨機資料\n",
        "np.random.seed(0)\n",
        "noise = np.random.rand(100, 1)\n",
        "noise\n",
        "x = np.random.rand(100, 1)\n",
        "# y=ax+b, a=3, b=15\n",
        "y = 3 * x + 15 +noise"
      ]
    },
    {
      "cell_type": "code",
      "execution_count": 3,
      "id": "8d97a730",
      "metadata": {
        "colab": {
          "base_uri": "https://localhost:8080/",
          "height": 281
        },
        "id": "8d97a730",
        "outputId": "2fe46505-79d8-43ea-e837-b0379500a2a3"
      },
      "outputs": [
        {
          "output_type": "display_data",
          "data": {
            "image/png": "[encoded data removed]",
            "text/plain": [
              "<Figure size 432x288 with 1 Axes>"
            ]
          },
          "metadata": {
            "needs_background": "light"
          }
        }
      ],
      "source": [
        "fig, ax = plt.subplots()\n",
        "ax.scatter(x = x, y = y, s = 10)\n",
        "ax.set(xlabel = \"$X$\", ylabel = \"$Y$\")\n",
        "plt.show()"
      ]
    },
    {
      "cell_type": "markdown",
      "id": "56b38e61",
      "metadata": {
        "id": "56b38e61"
      },
      "source": [
        "#### Linear Regression\n",
        "    將複雜的資烙數據, 擬和至一條直線上, 方便預測未來的資料\n",
        "#### parameters :\n",
        "- fit_intercept : 是否有截距, 如果沒有則直線過原點。\n",
        "\n",
        "#### attributes :\n",
        "- coef_ : 取得斜率。\n",
        "- intercept_ : 取得截距。\n",
        "\n",
        "#### methods :\n",
        "- fit : 放入 x, y 進行擬合。\n",
        "- predict : 預測並回傳預測類別。\n",
        "- score : R2score 模型評估。"
      ]
    },
    {
      "cell_type": "code",
      "execution_count": 4,
      "id": "fcfb5e48",
      "metadata": {
        "id": "fcfb5e48"
      },
      "outputs": [],
      "source": [
        "from sklearn.linear_model import LinearRegression\n",
        "lr = LinearRegression(fit_intercept = True)\n",
        "lr.fit(x, y)\n",
        "predict = lr.predict(x)"
      ]
    },
    {
      "cell_type": "markdown",
      "id": "77f22523",
      "metadata": {
        "id": "77f22523"
      },
      "source": [
        "#### 模型評估\n",
        "    scikit-learn 決策樹回歸模型的 score 函式是 R2score , 作模型評估, 數值越接近 1 代表模型越好, 其他評估方法, 例如 : MES、MAE、RMSE。"
      ]
    },
    {
      "cell_type": "code",
      "execution_count": 5,
      "id": "2c481408",
      "metadata": {
        "colab": {
          "base_uri": "https://localhost:8080/"
        },
        "id": "2c481408",
        "outputId": "f24ddb3d-d6de-4b64-9a2a-34ead5677306"
      },
      "outputs": [
        {
          "output_type": "stream",
          "name": "stdout",
          "text": [
            "R2 score : 0.888257994980688\n",
            "\n",
            "MSE score : 0.08275457812228756\n",
            "\n",
            "RMSE score : 0.28767095460314995\n"
          ]
        }
      ],
      "source": [
        "from sklearn import metrics\n",
        "print(\"R2 score :\", lr.score(x, y))\n",
        "\n",
        "mse = metrics.mean_squared_error(y, predict)\n",
        "print(\"\\nMSE score :\", mse)\n",
        "\n",
        "rmse = metrics.mean_squared_error(y, predict, squared = False)\n",
        "print(\"\\nRMSE score :\", rmse)"
      ]
    },
    {
      "cell_type": "code",
      "execution_count": 6,
      "id": "bb7c8eb6",
      "metadata": {
        "colab": {
          "base_uri": "https://localhost:8080/",
          "height": 279
        },
        "id": "bb7c8eb6",
        "outputId": "5bfaa0b9-f8ba-4edb-ecfd-9cd4a9cbdd16"
      },
      "outputs": [
        {
          "output_type": "display_data",
          "data": {
            "image/png": "[encoded data removed]",
            "text/plain": [
              "<Figure size 432x288 with 1 Axes>"
            ]
          },
          "metadata": {
            "needs_background": "light"
          }
        }
      ],
      "source": [
        "fig, ax = plt.subplots()\n",
        "ax.scatter(x = x, y = y, label = \"Real\")\n",
        "ax.plot(x, predict, color =\"r\", label = \"Predict\", linestyle = \"-\", linewidth = 1)\n",
        "ax.set(xlabel = \"$x$\", ylabel = \"$y$\")\n",
        "ax.legend()\n",
        "plt.show()"
      ]
    },
    {
      "cell_type": "code",
      "execution_count": 7,
      "id": "8f6f48c8",
      "metadata": {
        "colab": {
          "base_uri": "https://localhost:8080/"
        },
        "id": "8f6f48c8",
        "outputId": "3675b31a-fd30-48da-f422-fb22a132fefe"
      },
      "outputs": [
        {
          "output_type": "stream",
          "name": "stdout",
          "text": [
            "斜率 : 2.93112\n",
            "截距 : 15.50917\n"
          ]
        }
      ],
      "source": [
        "coef =lr.coef_\n",
        "intercept = lr.intercept_\n",
        "\n",
        "print(\"斜率 :\", coef[0][0].round(5))\n",
        "print(\"截距 :\", intercept[0].round(5))"
      ]
    },
    {
      "cell_type": "markdown",
      "id": "6e4450f0",
      "metadata": {
        "id": "6e4450f0"
      },
      "source": [
        "#### 多線性迴歸\n",
        "$ y=a_{0}+a_{1}x_{1}+a_{2}x_{2}+a_{3}x_{3}+a_{4}x_{4}\\dots $, 在 y 上建立多為的陣列。"
      ]
    },
    {
      "cell_type": "code",
      "execution_count": 8,
      "id": "d19b2412",
      "metadata": {
        "id": "d19b2412"
      },
      "outputs": [],
      "source": [
        "%matplotlib inline\n",
        "import numpy as np\n",
        "import matplotlib.pyplot as plt"
      ]
    },
    {
      "cell_type": "code",
      "execution_count": 9,
      "id": "30312821",
      "metadata": {
        "id": "30312821"
      },
      "outputs": [],
      "source": [
        "# 產生隨機資料\n",
        "rng = np.random.RandomState(0)\n",
        "x1 = 10 * rng.rand(100, 3)\n",
        "y1 = .5 + np.dot(x1, [.5, -1., 2.])"
      ]
    },
    {
      "cell_type": "code",
      "execution_count": 10,
      "id": "b04cb7e6",
      "metadata": {
        "id": "b04cb7e6"
      },
      "outputs": [],
      "source": [
        "from sklearn.linear_model import LinearRegression\n",
        "lr = LinearRegression(fit_intercept = True)\n",
        "lr.fit(x1, y1)\n",
        "predict1 = lr.predict(x1)"
      ]
    },
    {
      "cell_type": "code",
      "execution_count": 11,
      "id": "ae91f8b5",
      "metadata": {
        "colab": {
          "base_uri": "https://localhost:8080/"
        },
        "id": "ae91f8b5",
        "outputId": "41db77a5-30ba-45a9-c8d8-921f24dc53c4"
      },
      "outputs": [
        {
          "output_type": "stream",
          "name": "stdout",
          "text": [
            "斜率 : [0.5, -1.0, 2.0]\n",
            "截距 : 0.5\n"
          ]
        }
      ],
      "source": [
        "coef1 =lr.coef_\n",
        "intercept1 = lr.intercept_\n",
        "\n",
        "print(\"斜率 :\", list((coef1).round(5)))\n",
        "print(\"截距 :\", intercept1.round(5))"
      ]
    },
    {
      "cell_type": "code",
      "execution_count": 12,
      "id": "8e8fa170",
      "metadata": {
        "id": "8e8fa170"
      },
      "outputs": [],
      "source": [
        "import pandas as pd\n",
        "df = pd.DataFrame(x1)\n",
        "df.columns = [\"x1\", \"x2\", \"x3\"]"
      ]
    },
    {
      "cell_type": "code",
      "execution_count": 13,
      "id": "21d9f8f0",
      "metadata": {
        "colab": {
          "base_uri": "https://localhost:8080/",
          "height": 279
        },
        "id": "21d9f8f0",
        "outputId": "fe0eb19a-51de-48c7-93dd-283b02037b09"
      },
      "outputs": [
        {
          "output_type": "display_data",
          "data": {
            "image/png": "[encoded data removed]",
            "text/plain": [
              "<Figure size 432x288 with 1 Axes>"
            ]
          },
          "metadata": {
            "needs_background": "light"
          }
        }
      ],
      "source": [
        "fig, ax = plt.subplots()\n",
        "ax.scatter(x = x1[:, 0], y = y, color = \"r\")\n",
        "ax.scatter(x = x1[:, 1], y = y, color = \"g\")\n",
        "ax.scatter(x = x1[:, 2], y = y, color = \"b\")\n",
        "ax.set(xlabel = \"$x$\", ylabel = \"$y$\")\n",
        "plt.show()"
      ]
    },
    {
      "cell_type": "markdown",
      "id": "05094e84",
      "metadata": {
        "id": "05094e84"
      },
      "source": [
        "#### 非線性迴歸"
      ]
    },
    {
      "cell_type": "code",
      "execution_count": 14,
      "id": "4672f5c5",
      "metadata": {
        "id": "4672f5c5"
      },
      "outputs": [],
      "source": [
        "%matplotlib inline\n",
        "import numpy as np\n",
        "import matplotlib.pyplot as plt"
      ]
    },
    {
      "cell_type": "code",
      "execution_count": 15,
      "id": "e935aeb8",
      "metadata": {
        "colab": {
          "base_uri": "https://localhost:8080/"
        },
        "id": "e935aeb8",
        "outputId": "cb9ea02b-5a26-40c4-c816-7ce87f66ee53"
      },
      "outputs": [
        {
          "output_type": "execute_result",
          "data": {
            "text/plain": [
              "(5, 1)"
            ]
          },
          "metadata": {},
          "execution_count": 15
        }
      ],
      "source": [
        "# 資料\n",
        "x2 = np.array([1, 2, 3, 4, 5])\n",
        "y2 = np.array([1, 3, 8, 6, 2])\n",
        "\n",
        "x2 = x2[:, np.newaxis]\n",
        "\n",
        "x2.shape"
      ]
    },
    {
      "cell_type": "code",
      "execution_count": 16,
      "id": "d5985a6a",
      "metadata": {
        "id": "d5985a6a"
      },
      "outputs": [],
      "source": [
        "from sklearn.linear_model import LinearRegression\n",
        "lr = LinearRegression(fit_intercept = True)\n",
        "lr.fit(x2, y2)\n",
        "predict2 = lr.predict(x2)"
      ]
    },
    {
      "cell_type": "code",
      "execution_count": 17,
      "id": "0af8eb49",
      "metadata": {
        "colab": {
          "base_uri": "https://localhost:8080/",
          "height": 265
        },
        "id": "0af8eb49",
        "outputId": "9e64f258-41a2-4fca-eec7-55207077c63d"
      },
      "outputs": [
        {
          "output_type": "display_data",
          "data": {
            "image/png": "[encoded data removed]",
            "text/plain": [
              "<Figure size 432x288 with 1 Axes>"
            ]
          },
          "metadata": {
            "needs_background": "light"
          }
        }
      ],
      "source": [
        "fig, ax = plt.subplots()\n",
        "ax.scatter(x = x2, y = y2)\n",
        "ax.plot(x2, predict2, color = \"r\")\n",
        "plt.show()"
      ]
    },
    {
      "cell_type": "code",
      "source": [
        "import sys\n",
        "print(sys.getrecursionlimit())\n",
        "sys.setrecursionlimit(10000)"
      ],
      "metadata": {
        "colab": {
          "base_uri": "https://localhost:8080/"
        },
        "id": "c6dtY-Og9uQw",
        "outputId": "d0b4aa7d-62fd-4c08-f092-a767e1d3598c"
      },
      "id": "c6dtY-Og9uQw",
      "execution_count": 23,
      "outputs": [
        {
          "output_type": "stream",
          "name": "stdout",
          "text": [
            "10000\n"
          ]
        }
      ]
    },
    {
      "cell_type": "code",
      "execution_count": 24,
      "id": "169930f4",
      "metadata": {
        "colab": {
          "base_uri": "https://localhost:8080/",
          "height": 382
        },
        "id": "169930f4",
        "outputId": "7340e2df-2967-48ba-8608-a2052bb37d89"
      },
      "outputs": [
        {
          "output_type": "error",
          "ename": "RecursionError",
          "evalue": "ignored",
          "traceback": [
            "\u001b[0;31m---------------------------------------------------------------------------\u001b[0m",
            "\u001b[0;31mRecursionError\u001b[0m                            Traceback (most recent call last)",
            "\u001b[0;32m<ipython-input-24-ce0fd5476029>\u001b[0m in \u001b[0;36m<module>\u001b[0;34m()\u001b[0m\n\u001b[1;32m      6\u001b[0m     \u001b[0;32mreturn\u001b[0m \u001b[0mmake_pipeline\u001b[0m\u001b[0;34m(\u001b[0m\u001b[0mPolynomialRegression\u001b[0m\u001b[0;34m(\u001b[0m\u001b[0mdegree\u001b[0m\u001b[0;34m)\u001b[0m\u001b[0;34m,\u001b[0m \u001b[0mLinearRegression\u001b[0m\u001b[0;34m(\u001b[0m\u001b[0;34m**\u001b[0m\u001b[0mkwargs\u001b[0m\u001b[0;34m)\u001b[0m\u001b[0;34m)\u001b[0m\u001b[0;34m\u001b[0m\u001b[0;34m\u001b[0m\u001b[0m\n\u001b[1;32m      7\u001b[0m \u001b[0;34m\u001b[0m\u001b[0m\n\u001b[0;32m----> 8\u001b[0;31m \u001b[0mpredict3\u001b[0m \u001b[0;34m=\u001b[0m \u001b[0mPolynomialRegression\u001b[0m\u001b[0;34m(\u001b[0m\u001b[0mdegree\u001b[0m \u001b[0;34m=\u001b[0m \u001b[0;36m4\u001b[0m\u001b[0;34m)\u001b[0m\u001b[0;34m.\u001b[0m\u001b[0mfit\u001b[0m\u001b[0;34m(\u001b[0m\u001b[0mx2\u001b[0m\u001b[0;34m,\u001b[0m \u001b[0my2\u001b[0m\u001b[0;34m)\u001b[0m\u001b[0;34m.\u001b[0m\u001b[0mpredict\u001b[0m\u001b[0;34m(\u001b[0m\u001b[0mx2\u001b[0m\u001b[0;34m)\u001b[0m\u001b[0;34m\u001b[0m\u001b[0;34m\u001b[0m\u001b[0m\n\u001b[0m",
            "\u001b[0;32m<ipython-input-24-ce0fd5476029>\u001b[0m in \u001b[0;36mPolynomialRegression\u001b[0;34m(degree, **kwargs)\u001b[0m\n\u001b[1;32m      4\u001b[0m \u001b[0;34m\u001b[0m\u001b[0m\n\u001b[1;32m      5\u001b[0m \u001b[0;32mdef\u001b[0m \u001b[0mPolynomialRegression\u001b[0m\u001b[0;34m(\u001b[0m\u001b[0mdegree\u001b[0m \u001b[0;34m=\u001b[0m \u001b[0;36m2\u001b[0m\u001b[0;34m,\u001b[0m \u001b[0;34m**\u001b[0m\u001b[0mkwargs\u001b[0m\u001b[0;34m)\u001b[0m\u001b[0;34m:\u001b[0m\u001b[0;34m\u001b[0m\u001b[0;34m\u001b[0m\u001b[0m\n\u001b[0;32m----> 6\u001b[0;31m     \u001b[0;32mreturn\u001b[0m \u001b[0mmake_pipeline\u001b[0m\u001b[0;34m(\u001b[0m\u001b[0mPolynomialRegression\u001b[0m\u001b[0;34m(\u001b[0m\u001b[0mdegree\u001b[0m\u001b[0;34m)\u001b[0m\u001b[0;34m,\u001b[0m \u001b[0mLinearRegression\u001b[0m\u001b[0;34m(\u001b[0m\u001b[0;34m**\u001b[0m\u001b[0mkwargs\u001b[0m\u001b[0;34m)\u001b[0m\u001b[0;34m)\u001b[0m\u001b[0;34m\u001b[0m\u001b[0;34m\u001b[0m\u001b[0m\n\u001b[0m\u001b[1;32m      7\u001b[0m \u001b[0;34m\u001b[0m\u001b[0m\n\u001b[1;32m      8\u001b[0m \u001b[0mpredict3\u001b[0m \u001b[0;34m=\u001b[0m \u001b[0mPolynomialRegression\u001b[0m\u001b[0;34m(\u001b[0m\u001b[0mdegree\u001b[0m \u001b[0;34m=\u001b[0m \u001b[0;36m4\u001b[0m\u001b[0;34m)\u001b[0m\u001b[0;34m.\u001b[0m\u001b[0mfit\u001b[0m\u001b[0;34m(\u001b[0m\u001b[0mx2\u001b[0m\u001b[0;34m,\u001b[0m \u001b[0my2\u001b[0m\u001b[0;34m)\u001b[0m\u001b[0;34m.\u001b[0m\u001b[0mpredict\u001b[0m\u001b[0;34m(\u001b[0m\u001b[0mx2\u001b[0m\u001b[0;34m)\u001b[0m\u001b[0;34m\u001b[0m\u001b[0;34m\u001b[0m\u001b[0m\n",
            "... last 1 frames repeated, from the frame below ...\n",
            "\u001b[0;32m<ipython-input-24-ce0fd5476029>\u001b[0m in \u001b[0;36mPolynomialRegression\u001b[0;34m(degree, **kwargs)\u001b[0m\n\u001b[1;32m      4\u001b[0m \u001b[0;34m\u001b[0m\u001b[0m\n\u001b[1;32m      5\u001b[0m \u001b[0;32mdef\u001b[0m \u001b[0mPolynomialRegression\u001b[0m\u001b[0;34m(\u001b[0m\u001b[0mdegree\u001b[0m \u001b[0;34m=\u001b[0m \u001b[0;36m2\u001b[0m\u001b[0;34m,\u001b[0m \u001b[0;34m**\u001b[0m\u001b[0mkwargs\u001b[0m\u001b[0;34m)\u001b[0m\u001b[0;34m:\u001b[0m\u001b[0;34m\u001b[0m\u001b[0;34m\u001b[0m\u001b[0m\n\u001b[0;32m----> 6\u001b[0;31m     \u001b[0;32mreturn\u001b[0m \u001b[0mmake_pipeline\u001b[0m\u001b[0;34m(\u001b[0m\u001b[0mPolynomialRegression\u001b[0m\u001b[0;34m(\u001b[0m\u001b[0mdegree\u001b[0m\u001b[0;34m)\u001b[0m\u001b[0;34m,\u001b[0m \u001b[0mLinearRegression\u001b[0m\u001b[0;34m(\u001b[0m\u001b[0;34m**\u001b[0m\u001b[0mkwargs\u001b[0m\u001b[0;34m)\u001b[0m\u001b[0;34m)\u001b[0m\u001b[0;34m\u001b[0m\u001b[0;34m\u001b[0m\u001b[0m\n\u001b[0m\u001b[1;32m      7\u001b[0m \u001b[0;34m\u001b[0m\u001b[0m\n\u001b[1;32m      8\u001b[0m \u001b[0mpredict3\u001b[0m \u001b[0;34m=\u001b[0m \u001b[0mPolynomialRegression\u001b[0m\u001b[0;34m(\u001b[0m\u001b[0mdegree\u001b[0m \u001b[0;34m=\u001b[0m \u001b[0;36m4\u001b[0m\u001b[0;34m)\u001b[0m\u001b[0;34m.\u001b[0m\u001b[0mfit\u001b[0m\u001b[0;34m(\u001b[0m\u001b[0mx2\u001b[0m\u001b[0;34m,\u001b[0m \u001b[0my2\u001b[0m\u001b[0;34m)\u001b[0m\u001b[0;34m.\u001b[0m\u001b[0mpredict\u001b[0m\u001b[0;34m(\u001b[0m\u001b[0mx2\u001b[0m\u001b[0;34m)\u001b[0m\u001b[0;34m\u001b[0m\u001b[0;34m\u001b[0m\u001b[0m\n",
            "\u001b[0;31mRecursionError\u001b[0m: maximum recursion depth exceeded"
          ]
        }
      ],
      "source": [
        "from sklearn.preprocessing import PolynomialFeatures\n",
        "# make_pipeline 可以將多個 scikit_learn 的 function 一起執行\n",
        "from sklearn.pipeline import make_pipeline\n",
        "\n",
        "def PolynomialRegression(degree = 2, **kwargs):\n",
        "    return make_pipeline(PolynomialRegression(degree), LinearRegression(**kwargs))\n",
        "\n",
        "predict3 = PolynomialRegression(degree = 4).fit(x2, y2).predict(x2)"
      ]
    },
    {
      "cell_type": "code",
      "execution_count": null,
      "id": "71db25f3",
      "metadata": {
        "id": "71db25f3"
      },
      "outputs": [],
      "source": [
        "fig, ax = plt.subplots()\n",
        "ax.plot(x2, y2, maker = \"o\")\n",
        "plt.show()"
      ]
    },
    {
      "cell_type": "code",
      "execution_count": null,
      "id": "9c6af5bd",
      "metadata": {
        "id": "9c6af5bd"
      },
      "outputs": [],
      "source": [
        ""
      ]
    }
  ],
  "metadata": {
    "kernelspec": {
      "display_name": "Python 3",
      "language": "python",
      "name": "python3"
    },
    "language_info": {
      "codemirror_mode": {
        "name": "ipython",
        "version": 3
      },
      "file_extension": ".py",
      "mimetype": "text/x-python",
      "name": "python",
      "nbconvert_exporter": "python",
      "pygments_lexer": "ipython3",
      "version": "3.9.0"
    },
    "colab": {
      "name": "AI_practice_series_5_linear_regression.ipynb",
      "provenance": [],
      "include_colab_link": true
    }
  },
  "nbformat": 4,
  "nbformat_minor": 5
}